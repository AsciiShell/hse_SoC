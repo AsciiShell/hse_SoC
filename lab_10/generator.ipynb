{
 "cells": [
  {
   "cell_type": "code",
   "execution_count": 34,
   "metadata": {},
   "outputs": [],
   "source": []
  },
  {
   "cell_type": "code",
   "execution_count": 51,
   "metadata": {},
   "outputs": [
    {
     "name": "stdout",
     "output_type": "stream",
     "text": [
      "0\t1000\t0\n",
      "0\t400\t0\n",
      "0\t100\t0\n",
      "0\t40\t0\n",
      "40\t10\t40\n",
      "20\t4\t50\n",
      "10\t1\t24\n",
      "9\t0\t11\n"
     ]
    }
   ],
   "source": [
    "x = 0x5a\n",
    "m = 0x4000;\n",
    "y = 0;\n",
    "size = 8\n",
    "s = '';\n",
    "while(m != 0):\n",
    "    \n",
    "    b = y | (m % 2**size)\n",
    "    ms = f'{m:08b}'\n",
    "    ms = ms[-size:]\n",
    "    s += f'        b = y | {size}\\'b{ms};\\n'\n",
    "    y = y >> 1\n",
    "    s += f'        y = y >> 1;\\n'\n",
    "    s += f'        if (x >= b)\\n'\n",
    "    s += f'        begin\\n'\n",
    "    s += f'            x = x - b;\\n'\n",
    "    s += f'            y = y | {size}\\'b{ms};\\n'\n",
    "    s += f'        end\\n'\n",
    "    if x >= b:\n",
    "        x = x - b\n",
    "        y = y | (m % 2**size)\n",
    "    m = m >> 2\n",
    "    print(f'{y:X}\\t{m:X}\\t{b:X}')"
   ]
  },
  {
   "cell_type": "code",
   "execution_count": 52,
   "metadata": {},
   "outputs": [
    {
     "name": "stdout",
     "output_type": "stream",
     "text": [
      "        b = y | 8'b00000000;\n",
      "        y = y >> 1;\n",
      "        if (x >= b)\n",
      "        begin\n",
      "            x = x - b;\n",
      "            y = y | 8'b00000000;\n",
      "        end\n",
      "        b = y | 8'b00000000;\n",
      "        y = y >> 1;\n",
      "        if (x >= b)\n",
      "        begin\n",
      "            x = x - b;\n",
      "            y = y | 8'b00000000;\n",
      "        end\n",
      "        b = y | 8'b00000000;\n",
      "        y = y >> 1;\n",
      "        if (x >= b)\n",
      "        begin\n",
      "            x = x - b;\n",
      "            y = y | 8'b00000000;\n",
      "        end\n",
      "        b = y | 8'b00000000;\n",
      "        y = y >> 1;\n",
      "        if (x >= b)\n",
      "        begin\n",
      "            x = x - b;\n",
      "            y = y | 8'b00000000;\n",
      "        end\n",
      "        b = y | 8'b01000000;\n",
      "        y = y >> 1;\n",
      "        if (x >= b)\n",
      "        begin\n",
      "            x = x - b;\n",
      "            y = y | 8'b01000000;\n",
      "        end\n",
      "        b = y | 8'b00010000;\n",
      "        y = y >> 1;\n",
      "        if (x >= b)\n",
      "        begin\n",
      "            x = x - b;\n",
      "            y = y | 8'b00010000;\n",
      "        end\n",
      "        b = y | 8'b00000100;\n",
      "        y = y >> 1;\n",
      "        if (x >= b)\n",
      "        begin\n",
      "            x = x - b;\n",
      "            y = y | 8'b00000100;\n",
      "        end\n",
      "        b = y | 8'b00000001;\n",
      "        y = y >> 1;\n",
      "        if (x >= b)\n",
      "        begin\n",
      "            x = x - b;\n",
      "            y = y | 8'b00000001;\n",
      "        end\n",
      "\n"
     ]
    }
   ],
   "source": [
    "print(s)"
   ]
  },
  {
   "cell_type": "code",
   "execution_count": 28,
   "metadata": {},
   "outputs": [
    {
     "data": {
      "text/plain": [
       "'23456789'"
      ]
     },
     "execution_count": 28,
     "metadata": {},
     "output_type": "execute_result"
    }
   ],
   "source": [
    "'123456789'[-8:]"
   ]
  },
  {
   "cell_type": "code",
   "execution_count": 24,
   "metadata": {},
   "outputs": [
    {
     "data": {
      "text/plain": [
       "\"8'b00000000\""
      ]
     },
     "execution_count": 24,
     "metadata": {},
     "output_type": "execute_result"
    }
   ],
   "source": [
    "f'8\\'b{m:08b}'"
   ]
  },
  {
   "cell_type": "code",
   "execution_count": null,
   "metadata": {},
   "outputs": [],
   "source": []
  }
 ],
 "metadata": {
  "kernelspec": {
   "display_name": "Python 3",
   "language": "python",
   "name": "python3"
  },
  "language_info": {
   "codemirror_mode": {
    "name": "ipython",
    "version": 3
   },
   "file_extension": ".py",
   "mimetype": "text/x-python",
   "name": "python",
   "nbconvert_exporter": "python",
   "pygments_lexer": "ipython3",
   "version": "3.7.3"
  }
 },
 "nbformat": 4,
 "nbformat_minor": 2
}
